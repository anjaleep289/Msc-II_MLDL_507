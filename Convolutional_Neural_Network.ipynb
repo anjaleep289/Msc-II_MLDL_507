{
  "nbformat": 4,
  "nbformat_minor": 0,
  "metadata": {
    "colab": {
      "provenance": []
    },
    "kernelspec": {
      "name": "python3",
      "display_name": "Python 3"
    },
    "language_info": {
      "name": "python"
    }
  },
  "cells": [
    {
      "cell_type": "code",
      "execution_count": null,
      "metadata": {
        "id": "dWYbr8vO6SNh"
      },
      "outputs": [],
      "source": [
        "import tensorflow as tf\n",
        "from keras.preprocessing.image import ImageDataGenerator"
      ]
    },
    {
      "cell_type": "code",
      "source": [
        "tf.__version__"
      ],
      "metadata": {
        "id": "szgjmtx09SkQ",
        "colab": {
          "base_uri": "https://localhost:8080/",
          "height": 35
        },
        "outputId": "a2e0d562-2d98-4500-8377-703899289e81"
      },
      "execution_count": null,
      "outputs": [
        {
          "output_type": "execute_result",
          "data": {
            "text/plain": [
              "'2.12.0'"
            ],
            "application/vnd.google.colaboratory.intrinsic+json": {
              "type": "string"
            }
          },
          "metadata": {},
          "execution_count": 27
        }
      ]
    },
    {
      "cell_type": "code",
      "source": [],
      "metadata": {
        "id": "zxVguSzOHsb6"
      },
      "execution_count": null,
      "outputs": []
    },
    {
      "cell_type": "code",
      "source": [
        "train_datagen = ImageDataGenerator(rescale = 1./255,\n",
        "                                   shear_range = 0.2,\n",
        "                                   zoom_range = 0.2,\n",
        "                                   horizontal_flip =True)\n",
        "training_set = train_datagen.flow_from_directory('drive/MyDrive/small_dataset/dataset/training_set',\n",
        "                                                 target_size = (64,64),\n",
        "                                                 batch_size = 32,\n",
        "                                                 class_mode = 'binary')"
      ],
      "metadata": {
        "colab": {
          "base_uri": "https://localhost:8080/"
        },
        "id": "HL5qcOHL9TAp",
        "outputId": "5e0e74b6-7d26-4cb2-db87-39e410e0ec3e"
      },
      "execution_count": null,
      "outputs": [
        {
          "output_type": "stream",
          "name": "stdout",
          "text": [
            "Found 10 images belonging to 2 classes.\n"
          ]
        }
      ]
    },
    {
      "cell_type": "code",
      "source": [
        "test_datagen = ImageDataGenerator(rescale = 1./255)\n",
        "test_set = test_datagen.flow_from_directory('drive/MyDrive/small_dataset/dataset/test_set',\n",
        "                                            target_size = (64,64),\n",
        "                                            batch_size = 32,\n",
        "                                            class_mode = 'binary')"
      ],
      "metadata": {
        "id": "-xClgdL5-tKo",
        "colab": {
          "base_uri": "https://localhost:8080/"
        },
        "outputId": "9e3001a9-22a3-485f-8488-01c44d241354"
      },
      "execution_count": null,
      "outputs": [
        {
          "output_type": "stream",
          "name": "stdout",
          "text": [
            "Found 10 images belonging to 2 classes.\n"
          ]
        }
      ]
    },
    {
      "cell_type": "code",
      "source": [
        "cnn = tf.keras.models.Sequential()"
      ],
      "metadata": {
        "id": "QHYS8jPU_bRc"
      },
      "execution_count": null,
      "outputs": []
    },
    {
      "cell_type": "code",
      "source": [
        "cnn.add(tf.keras.layers.Convolution2D(filters=32, kernel_size=3, activation='relu', input_shape=[64, 64, 3]))"
      ],
      "metadata": {
        "id": "kpRiUnBbAPmD"
      },
      "execution_count": null,
      "outputs": []
    },
    {
      "cell_type": "code",
      "source": [
        "cnn.add(tf.keras.layers.MaxPool2D(pool_size=2, strides=2))"
      ],
      "metadata": {
        "id": "Vkl0wlz2_oeM"
      },
      "execution_count": null,
      "outputs": []
    },
    {
      "cell_type": "code",
      "source": [
        "cnn.add(tf.keras.layers.Convolution2D(filters=32, kernel_size=3, activation='relu'))\n",
        "cnn.add(tf.keras.layers.MaxPool2D(pool_size=2, strides=2))"
      ],
      "metadata": {
        "id": "4WARrXCpAIsM"
      },
      "execution_count": null,
      "outputs": []
    },
    {
      "cell_type": "code",
      "source": [
        "from google.colab import drive\n",
        "drive.mount('/content/drive')"
      ],
      "metadata": {
        "colab": {
          "base_uri": "https://localhost:8080/"
        },
        "id": "p0QUYLl-CctF",
        "outputId": "9fdcc42d-7a38-4982-c4a8-5c261c3e779c"
      },
      "execution_count": null,
      "outputs": [
        {
          "output_type": "stream",
          "name": "stdout",
          "text": [
            "Drive already mounted at /content/drive; to attempt to forcibly remount, call drive.mount(\"/content/drive\", force_remount=True).\n"
          ]
        }
      ]
    },
    {
      "cell_type": "code",
      "source": [
        "cnn.add(tf.keras.layers.Flatten())"
      ],
      "metadata": {
        "id": "MLaS07tpCx1y"
      },
      "execution_count": null,
      "outputs": []
    },
    {
      "cell_type": "code",
      "source": [
        "cnn.add(tf.keras.layers.Dense(units=128, activation='relu'))"
      ],
      "metadata": {
        "id": "uRnaIR7UC-2M"
      },
      "execution_count": null,
      "outputs": []
    },
    {
      "cell_type": "code",
      "source": [
        "cnn.add(tf.keras.layers.Dense(units=1, activation='sigmoid'))"
      ],
      "metadata": {
        "id": "xKzt9_Z5DQka"
      },
      "execution_count": null,
      "outputs": []
    },
    {
      "cell_type": "code",
      "source": [
        "cnn.compile(optimizer = 'adam', loss = 'binary_crossentropy', metrics = ['accuracy'])"
      ],
      "metadata": {
        "id": "045W0JcNDZD9"
      },
      "execution_count": null,
      "outputs": []
    },
    {
      "cell_type": "code",
      "source": [
        "cnn.fit(x = training_set, validation_data = test_set, epochs = 25)"
      ],
      "metadata": {
        "id": "xru9C_rRDw5A",
        "colab": {
          "base_uri": "https://localhost:8080/"
        },
        "outputId": "83f50178-7f99-4027-cbb8-5ac0e62893cd"
      },
      "execution_count": null,
      "outputs": [
        {
          "output_type": "stream",
          "name": "stdout",
          "text": [
            "Epoch 1/25\n",
            "1/1 [==============================] - 2s 2s/step - loss: 0.6919 - accuracy: 0.5000 - val_loss: 0.7377 - val_accuracy: 0.5000\n",
            "Epoch 2/25\n",
            "1/1 [==============================] - 0s 187ms/step - loss: 0.7135 - accuracy: 0.5000 - val_loss: 0.8040 - val_accuracy: 0.5000\n",
            "Epoch 3/25\n",
            "1/1 [==============================] - 0s 178ms/step - loss: 0.7204 - accuracy: 0.5000 - val_loss: 0.7231 - val_accuracy: 0.5000\n",
            "Epoch 4/25\n",
            "1/1 [==============================] - 0s 191ms/step - loss: 0.5894 - accuracy: 0.6000 - val_loss: 0.6992 - val_accuracy: 0.5000\n",
            "Epoch 5/25\n",
            "1/1 [==============================] - 0s 179ms/step - loss: 0.5960 - accuracy: 0.8000 - val_loss: 0.7183 - val_accuracy: 0.4000\n",
            "Epoch 6/25\n",
            "1/1 [==============================] - 0s 272ms/step - loss: 0.5789 - accuracy: 0.7000 - val_loss: 0.7245 - val_accuracy: 0.4000\n",
            "Epoch 7/25\n",
            "1/1 [==============================] - 0s 195ms/step - loss: 0.5331 - accuracy: 0.9000 - val_loss: 0.7590 - val_accuracy: 0.5000\n",
            "Epoch 8/25\n",
            "1/1 [==============================] - 0s 344ms/step - loss: 0.5141 - accuracy: 0.7000 - val_loss: 0.7719 - val_accuracy: 0.4000\n",
            "Epoch 9/25\n",
            "1/1 [==============================] - 0s 288ms/step - loss: 0.4622 - accuracy: 0.8000 - val_loss: 0.7751 - val_accuracy: 0.4000\n",
            "Epoch 10/25\n",
            "1/1 [==============================] - 0s 352ms/step - loss: 0.4390 - accuracy: 0.9000 - val_loss: 0.8089 - val_accuracy: 0.3000\n",
            "Epoch 11/25\n",
            "1/1 [==============================] - 0s 386ms/step - loss: 0.4573 - accuracy: 0.7000 - val_loss: 0.8378 - val_accuracy: 0.5000\n",
            "Epoch 12/25\n",
            "1/1 [==============================] - 0s 355ms/step - loss: 0.3941 - accuracy: 0.9000 - val_loss: 0.8674 - val_accuracy: 0.5000\n",
            "Epoch 13/25\n",
            "1/1 [==============================] - 0s 301ms/step - loss: 0.3272 - accuracy: 1.0000 - val_loss: 0.9161 - val_accuracy: 0.2000\n",
            "Epoch 14/25\n",
            "1/1 [==============================] - 0s 276ms/step - loss: 0.2760 - accuracy: 0.9000 - val_loss: 0.9435 - val_accuracy: 0.4000\n",
            "Epoch 15/25\n",
            "1/1 [==============================] - 0s 187ms/step - loss: 0.2129 - accuracy: 1.0000 - val_loss: 1.0092 - val_accuracy: 0.5000\n",
            "Epoch 16/25\n",
            "1/1 [==============================] - 0s 177ms/step - loss: 0.2076 - accuracy: 1.0000 - val_loss: 1.0619 - val_accuracy: 0.3000\n",
            "Epoch 17/25\n",
            "1/1 [==============================] - 0s 188ms/step - loss: 0.3282 - accuracy: 0.9000 - val_loss: 1.1227 - val_accuracy: 0.4000\n",
            "Epoch 18/25\n",
            "1/1 [==============================] - 0s 193ms/step - loss: 0.1367 - accuracy: 1.0000 - val_loss: 1.1813 - val_accuracy: 0.4000\n",
            "Epoch 19/25\n",
            "1/1 [==============================] - 0s 183ms/step - loss: 0.2849 - accuracy: 0.9000 - val_loss: 1.2731 - val_accuracy: 0.6000\n",
            "Epoch 20/25\n",
            "1/1 [==============================] - 0s 195ms/step - loss: 0.1828 - accuracy: 1.0000 - val_loss: 1.3565 - val_accuracy: 0.2000\n",
            "Epoch 21/25\n",
            "1/1 [==============================] - 0s 179ms/step - loss: 0.1496 - accuracy: 1.0000 - val_loss: 1.4880 - val_accuracy: 0.2000\n",
            "Epoch 22/25\n",
            "1/1 [==============================] - 0s 177ms/step - loss: 0.3300 - accuracy: 0.9000 - val_loss: 1.3941 - val_accuracy: 0.3000\n",
            "Epoch 23/25\n",
            "1/1 [==============================] - 0s 186ms/step - loss: 0.1583 - accuracy: 0.9000 - val_loss: 1.7114 - val_accuracy: 0.4000\n",
            "Epoch 24/25\n",
            "1/1 [==============================] - 0s 264ms/step - loss: 0.2692 - accuracy: 0.8000 - val_loss: 1.4467 - val_accuracy: 0.3000\n",
            "Epoch 25/25\n",
            "1/1 [==============================] - 0s 190ms/step - loss: 0.1030 - accuracy: 1.0000 - val_loss: 1.8475 - val_accuracy: 0.3000\n"
          ]
        },
        {
          "output_type": "execute_result",
          "data": {
            "text/plain": [
              "<keras.callbacks.History at 0x792ed8416860>"
            ]
          },
          "metadata": {},
          "execution_count": 39
        }
      ]
    },
    {
      "cell_type": "code",
      "source": [
        "import numpy as np\n",
        "from tensorflow.keras.preprocessing import image\n",
        "test_image = image.load_img('drive/MyDrive/small_dataset/dataset/single_prediction/cat_or_dog_2.jpg', target_size = (64, 64))\n",
        "test_image = image.img_to_array(test_image)\n",
        "test_image = np.expand_dims(test_image, axis = 0)\n",
        "result = cnn.predict(test_image)\n",
        "training_set.class_indices\n",
        "if result[0][0] == 1:\n",
        "  prediction = 'dog'\n",
        "else:\n",
        "  prediction = 'cat'"
      ],
      "metadata": {
        "id": "XiMLdPv8EEXv",
        "colab": {
          "base_uri": "https://localhost:8080/"
        },
        "outputId": "5f13de61-cfb8-49d4-9e02-105b7b734162"
      },
      "execution_count": null,
      "outputs": [
        {
          "output_type": "stream",
          "name": "stdout",
          "text": [
            "1/1 [==============================] - 0s 83ms/step\n"
          ]
        }
      ]
    },
    {
      "cell_type": "code",
      "source": [
        "print(prediction)"
      ],
      "metadata": {
        "id": "CEdDlJdEFXZG",
        "colab": {
          "base_uri": "https://localhost:8080/"
        },
        "outputId": "8e53a3d3-e80c-4e5b-fde5-e960632ab27c"
      },
      "execution_count": null,
      "outputs": [
        {
          "output_type": "stream",
          "name": "stdout",
          "text": [
            "cat\n"
          ]
        }
      ]
    }
  ]
}